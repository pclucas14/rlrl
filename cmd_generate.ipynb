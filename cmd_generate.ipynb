{
 "cells": [
  {
   "cell_type": "code",
   "execution_count": 69,
   "metadata": {},
   "outputs": [],
   "source": [
    "vc = [0]\n",
    "n_episodes = 500\n",
    "print_every = 500\n",
    "learning = 0\n",
    "seed = range(1,21)\n",
    "var = 0\n",
    "init_value = 0\n",
    "beta_lr = 0.1\n",
    "beta_init=0.5\n",
    "online=1"
   ]
  },
  {
   "cell_type": "code",
   "execution_count": 70,
   "metadata": {},
   "outputs": [],
   "source": [
    "cmd = []\n",
    "for s in seed:\n",
    "    for v in vc:\n",
    "        cmd.append('python bias_exp.py --online='+str(online)+' --beta_init='+str(beta_init)+' --init_value='+str(init_value)+' --var='+str(var)+' --vc='+str(v)+' --n_episodes='+str(n_episodes)+' --print_every='+str(print_every)+' --beta_lr='+str(beta_lr)+' --learning='+str(learning)+' --seed='+str(s))"
   ]
  },
  {
   "cell_type": "code",
   "execution_count": 71,
   "metadata": {},
   "outputs": [
    {
     "data": {
      "text/plain": [
       "['python bias_exp.py --online=1 --beta_init=0.5 --init_value=0 --var=0 --vc=0 --n_episodes=500 --print_every=500 --beta_lr=0.1 --learning=0 --seed=1',\n",
       " 'python bias_exp.py --online=1 --beta_init=0.5 --init_value=0 --var=0 --vc=0 --n_episodes=500 --print_every=500 --beta_lr=0.1 --learning=0 --seed=2',\n",
       " 'python bias_exp.py --online=1 --beta_init=0.5 --init_value=0 --var=0 --vc=0 --n_episodes=500 --print_every=500 --beta_lr=0.1 --learning=0 --seed=3',\n",
       " 'python bias_exp.py --online=1 --beta_init=0.5 --init_value=0 --var=0 --vc=0 --n_episodes=500 --print_every=500 --beta_lr=0.1 --learning=0 --seed=4',\n",
       " 'python bias_exp.py --online=1 --beta_init=0.5 --init_value=0 --var=0 --vc=0 --n_episodes=500 --print_every=500 --beta_lr=0.1 --learning=0 --seed=5',\n",
       " 'python bias_exp.py --online=1 --beta_init=0.5 --init_value=0 --var=0 --vc=0 --n_episodes=500 --print_every=500 --beta_lr=0.1 --learning=0 --seed=6',\n",
       " 'python bias_exp.py --online=1 --beta_init=0.5 --init_value=0 --var=0 --vc=0 --n_episodes=500 --print_every=500 --beta_lr=0.1 --learning=0 --seed=7',\n",
       " 'python bias_exp.py --online=1 --beta_init=0.5 --init_value=0 --var=0 --vc=0 --n_episodes=500 --print_every=500 --beta_lr=0.1 --learning=0 --seed=8',\n",
       " 'python bias_exp.py --online=1 --beta_init=0.5 --init_value=0 --var=0 --vc=0 --n_episodes=500 --print_every=500 --beta_lr=0.1 --learning=0 --seed=9',\n",
       " 'python bias_exp.py --online=1 --beta_init=0.5 --init_value=0 --var=0 --vc=0 --n_episodes=500 --print_every=500 --beta_lr=0.1 --learning=0 --seed=10',\n",
       " 'python bias_exp.py --online=1 --beta_init=0.5 --init_value=0 --var=0 --vc=0 --n_episodes=500 --print_every=500 --beta_lr=0.1 --learning=0 --seed=11',\n",
       " 'python bias_exp.py --online=1 --beta_init=0.5 --init_value=0 --var=0 --vc=0 --n_episodes=500 --print_every=500 --beta_lr=0.1 --learning=0 --seed=12',\n",
       " 'python bias_exp.py --online=1 --beta_init=0.5 --init_value=0 --var=0 --vc=0 --n_episodes=500 --print_every=500 --beta_lr=0.1 --learning=0 --seed=13',\n",
       " 'python bias_exp.py --online=1 --beta_init=0.5 --init_value=0 --var=0 --vc=0 --n_episodes=500 --print_every=500 --beta_lr=0.1 --learning=0 --seed=14',\n",
       " 'python bias_exp.py --online=1 --beta_init=0.5 --init_value=0 --var=0 --vc=0 --n_episodes=500 --print_every=500 --beta_lr=0.1 --learning=0 --seed=15',\n",
       " 'python bias_exp.py --online=1 --beta_init=0.5 --init_value=0 --var=0 --vc=0 --n_episodes=500 --print_every=500 --beta_lr=0.1 --learning=0 --seed=16',\n",
       " 'python bias_exp.py --online=1 --beta_init=0.5 --init_value=0 --var=0 --vc=0 --n_episodes=500 --print_every=500 --beta_lr=0.1 --learning=0 --seed=17',\n",
       " 'python bias_exp.py --online=1 --beta_init=0.5 --init_value=0 --var=0 --vc=0 --n_episodes=500 --print_every=500 --beta_lr=0.1 --learning=0 --seed=18',\n",
       " 'python bias_exp.py --online=1 --beta_init=0.5 --init_value=0 --var=0 --vc=0 --n_episodes=500 --print_every=500 --beta_lr=0.1 --learning=0 --seed=19',\n",
       " 'python bias_exp.py --online=1 --beta_init=0.5 --init_value=0 --var=0 --vc=0 --n_episodes=500 --print_every=500 --beta_lr=0.1 --learning=0 --seed=20']"
      ]
     },
     "execution_count": 71,
     "metadata": {},
     "output_type": "execute_result"
    }
   ],
   "source": [
    "cmd"
   ]
  },
  {
   "cell_type": "code",
   "execution_count": 72,
   "metadata": {},
   "outputs": [],
   "source": [
    "with open('cmd.sh', 'w') as f:\n",
    "    for item in cmd:\n",
    "        f.write(\"%s\\n\" % item)"
   ]
  },
  {
   "cell_type": "code",
   "execution_count": null,
   "metadata": {},
   "outputs": [],
   "source": []
  },
  {
   "cell_type": "code",
   "execution_count": null,
   "metadata": {},
   "outputs": [],
   "source": []
  }
 ],
 "metadata": {
  "kernelspec": {
   "display_name": "Python 3",
   "language": "python",
   "name": "python3"
  },
  "language_info": {
   "codemirror_mode": {
    "name": "ipython",
    "version": 3
   },
   "file_extension": ".py",
   "mimetype": "text/x-python",
   "name": "python",
   "nbconvert_exporter": "python",
   "pygments_lexer": "ipython3",
   "version": "3.6.8"
  }
 },
 "nbformat": 4,
 "nbformat_minor": 2
}
